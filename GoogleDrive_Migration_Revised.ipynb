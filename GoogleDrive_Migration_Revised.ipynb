{
  "nbformat": 4,
  "nbformat_minor": 0,
  "metadata": {
    "colab": {
      "name": "GoogleDrive Migration - Revised.ipynb",
      "provenance": [],
      "collapsed_sections": [],
      "toc_visible": true,
      "include_colab_link": true
    },
    "kernelspec": {
      "name": "python3",
      "display_name": "Python 3"
    }
  },
  "cells": [
    {
      "cell_type": "markdown",
      "metadata": {
        "id": "view-in-github",
        "colab_type": "text"
      },
      "source": [
        "<a href=\"https://colab.research.google.com/github/ExBrig/GoogleDriveMigration/blob/main/GoogleDrive_Migration_Revised.ipynb\" target=\"_parent\"><img src=\"https://colab.research.google.com/assets/colab-badge.svg\" alt=\"Open In Colab\"/></a>"
      ]
    },
    {
      "cell_type": "markdown",
      "metadata": {
        "id": "lxTFXZi41jYa"
      },
      "source": [
        "# **`#0`** Mount your Google Drive (**Important**)"
      ]
    },
    {
      "cell_type": "markdown",
      "metadata": {
        "id": "QKDEo3O42X5S"
      },
      "source": [
        "**Mount**\n",
        "(Mandatory)"
      ]
    },
    {
      "cell_type": "code",
      "metadata": {
        "id": "gmRTcwP9FaFv"
      },
      "source": [
        "from google.colab import drive\n",
        "drive.mount('/content/drive')"
      ],
      "execution_count": null,
      "outputs": []
    },
    {
      "cell_type": "markdown",
      "metadata": {
        "id": "CgDOIoVu199J"
      },
      "source": [
        "**Check Network Speed** (Optional)"
      ]
    },
    {
      "cell_type": "code",
      "metadata": {
        "id": "YSmUUwrp3b5D"
      },
      "source": [
        "!curl -s https://raw.githubusercontent.com/sivel/speedtest-cli/master/speedtest.py | python -"
      ],
      "execution_count": null,
      "outputs": []
    },
    {
      "cell_type": "markdown",
      "metadata": {
        "id": "AM_HAOnOem0v"
      },
      "source": [
        "**Check IP** (Optional)"
      ]
    },
    {
      "cell_type": "code",
      "metadata": {
        "id": "zv47d4QTeluA"
      },
      "source": [
        "!curl -s http://checkip.amazonaws.com"
      ],
      "execution_count": null,
      "outputs": []
    },
    {
      "cell_type": "markdown",
      "metadata": {
        "id": "3AXweA-auoDX"
      },
      "source": [
        "---\n",
        "---"
      ]
    },
    {
      "cell_type": "markdown",
      "metadata": {
        "id": "csh-zappftKC"
      },
      "source": [
        "# **`#1`** Make a copy of Folder within **My Drive**"
      ]
    },
    {
      "cell_type": "markdown",
      "metadata": {
        "id": "QbW6PhaXiKSc"
      },
      "source": [
        "### 1. Replace\n",
        "- **FOLDER_PATH** - path of folder you want to copy\n",
        "- **DESTINATION_PATH** - destination of the folder where you want to save the copy\n",
        "\n",
        "### 2. Run"
      ]
    },
    {
      "cell_type": "code",
      "metadata": {
        "id": "MGWDn6j3gc_o"
      },
      "source": [
        "!cp -av '/content/drive/MyDrive/FOLDER_PATH' '/content/drive/MyDrive/DESTINATION_PATH"
      ],
      "execution_count": null,
      "outputs": []
    },
    {
      "cell_type": "markdown",
      "metadata": {
        "id": "umRa9VGVuyLw"
      },
      "source": [
        "---\n",
        "---"
      ]
    },
    {
      "cell_type": "markdown",
      "metadata": {
        "id": "zBwf5A5Wftc8"
      },
      "source": [
        "# **`#2`** Make a copy of Folder within **Shared Drive**"
      ]
    },
    {
      "cell_type": "markdown",
      "metadata": {
        "id": "-QzSW_FTj1l1"
      },
      "source": [
        "### 1. Run the below code to get the list of Shared Drives"
      ]
    },
    {
      "cell_type": "code",
      "metadata": {
        "id": "PsBlht1ojz3J"
      },
      "source": [
        "!ls '/content/drive/Shareddrives'"
      ],
      "execution_count": null,
      "outputs": []
    },
    {
      "cell_type": "markdown",
      "metadata": {
        "id": "7B3HfzF-kUkE"
      },
      "source": [
        "### 2. Replace \n",
        "\n",
        "*   TEAMDRIVE - your Shared Drive Name\n",
        "*   SOURCE_FOLDER - path of the Folder you want to copy\n",
        "*   DESTINATION_FOLDER - path of the Folder where you want to save the copy\n",
        "\n",
        "\n",
        "Example : \n",
        "\n",
        "```\n",
        "!cp -av '/content/drive/Shareddrives/alex/testfolder' '/content/drive/Shareddrives/alex/newfolder'\n",
        "```\n",
        "\n",
        "![alt text](https://i.imgur.com/DiHA39S.png)"
      ]
    },
    {
      "cell_type": "markdown",
      "metadata": {
        "id": "flvx0M6GvmLL"
      },
      "source": [
        "### 3. Run"
      ]
    },
    {
      "cell_type": "code",
      "metadata": {
        "id": "jc99JEuRkUkG"
      },
      "source": [
        "!cp -av '/content/drive/Shareddrives/TEAMDRIVE_Name/SOURCE_FOLDER' '/content/drive/Shareddrives/TEAMDRIVE_Folder/DESTINATION_FOLDER'"
      ],
      "execution_count": null,
      "outputs": []
    },
    {
      "cell_type": "markdown",
      "metadata": {
        "id": "s-nWHHPYu3aE"
      },
      "source": [
        "---\n",
        "---"
      ]
    },
    {
      "cell_type": "markdown",
      "metadata": {
        "id": "kl-_gj6Oft5g"
      },
      "source": [
        "# **`#3`** Copy a Folder from **My Drive** to **Shared Drive**"
      ]
    },
    {
      "cell_type": "markdown",
      "metadata": {
        "id": "9qwzSm6wsjTG"
      },
      "source": [
        "### 1. Run the below code to get the list of ***Shared Drives***"
      ]
    },
    {
      "cell_type": "code",
      "metadata": {
        "id": "3GNRHJ_XsjTI"
      },
      "source": [
        "!ls '/content/drive/Shared drives'"
      ],
      "execution_count": null,
      "outputs": []
    },
    {
      "cell_type": "markdown",
      "metadata": {
        "id": "Uwf0yenUsqof"
      },
      "source": [
        "### 2. Replace"
      ]
    },
    {
      "cell_type": "markdown",
      "metadata": {
        "id": "O9BJopGMsqog"
      },
      "source": [
        "*   TEAMDRIVE - your Shared Drive Name\n",
        "*   FOLDER - path of the Folder you want to copy\n",
        "\n",
        "Example : \n",
        "\n",
        "```\n",
        "!cp -av '/content/drive/MyDrive/' '/content/drive/Shareddrives/alex/testfolder'\n",
        "```\n",
        "\n",
        "![alt text](https://i.imgur.com/DiHA39S.png)"
      ]
    },
    {
      "cell_type": "code",
      "metadata": {
        "id": "cSeiP4Lgsqoh"
      },
      "source": [
        "!cp -av '/content/drive/MyDrive/FOLDER' '/content/drive/Shareddrives/content/drive/Shareddrives/TEAMDRIVE/' "
      ],
      "execution_count": null,
      "outputs": []
    },
    {
      "cell_type": "markdown",
      "metadata": {
        "id": "edOfp9Ndu8fa"
      },
      "source": [
        "---\n",
        "---"
      ]
    },
    {
      "cell_type": "markdown",
      "metadata": {
        "id": "g8mEjIQc3j3K"
      },
      "source": [
        "# **`#4`** Copy a Folder from **Shared Drive** to **My Drive**"
      ]
    },
    {
      "cell_type": "markdown",
      "metadata": {
        "id": "u5chHrpJsIWo"
      },
      "source": [
        "### 1. Run the below code to get the list of ***Shared Drives***\n",
        "##### Hidden Shared Drives won't be listed\n",
        "##### (You need to check in the my Drive dashboard for any Hidden Shared Drives)"
      ]
    },
    {
      "cell_type": "code",
      "metadata": {
        "id": "zQs2Gq383sIU"
      },
      "source": [
        "!ls '/content/drive/Shareddrives'"
      ],
      "execution_count": null,
      "outputs": []
    },
    {
      "cell_type": "markdown",
      "metadata": {
        "id": "6on7RCTp8x-q"
      },
      "source": [
        "### 2. Replace"
      ]
    },
    {
      "cell_type": "markdown",
      "metadata": {
        "id": "hRkajQfZsSzW"
      },
      "source": [
        "*   TEAMDRIVE with your Shared Drive Name\n",
        "*   FOLDER with the path of the Folder you want to copy\n",
        "\n",
        "Example : \n",
        "\n",
        "```\n",
        "!cp -av '/content/drive/Shareddrives/alex/testfolder' '/content/drive/MyDrive/'\n",
        "```\n",
        "\n",
        "![alt text](https://i.imgur.com/DiHA39S.png)"
      ]
    },
    {
      "cell_type": "code",
      "metadata": {
        "id": "7RC_U2uQ3sBT"
      },
      "source": [
        "!cp -av '/content/drive/Shareddrives/TEAMDRIVE/FOLDER' '/content/drive/MyDrive/'"
      ],
      "execution_count": null,
      "outputs": []
    },
    {
      "cell_type": "markdown",
      "metadata": {
        "id": "8hn-EXIW555r"
      },
      "source": [
        "# **`#5`** Copy a Folder from **Shared Drive#1** to **Shared Drive#2**"
      ]
    },
    {
      "cell_type": "markdown",
      "metadata": {
        "id": "HAGvwx7o6Lzt"
      },
      "source": [
        "1. Run the below code to get the list of Shared Drives\n",
        "*(Hidden Shared Drives won't be listed)*"
      ]
    },
    {
      "cell_type": "code",
      "metadata": {
        "id": "5mgayuLC5vsF"
      },
      "source": [
        "!ls '/content/drive/Shareddrives'"
      ],
      "execution_count": null,
      "outputs": []
    },
    {
      "cell_type": "markdown",
      "metadata": {
        "id": "NR6TGSl16U7D"
      },
      "source": [
        "2. Replace\n",
        "- *`TEAMDRIVE_1`* with source Shared drive\n",
        "- *`TEAMDRIVE_2`* with destination Shared drive\n",
        "- *`FOLDER_1`* with source folder"
      ]
    },
    {
      "cell_type": "code",
      "metadata": {
        "id": "Tg6bcLrd8RJm"
      },
      "source": [
        "!cp -av '/content/drive/Shareddrivess/TEAMDRIVE_1/FOLDER_1' '/content/drive/Shareddrives/TEAMDRIVE_2'"
      ],
      "execution_count": null,
      "outputs": []
    },
    {
      "cell_type": "markdown",
      "metadata": {
        "id": "bGQ1G7lkOY8P"
      },
      "source": [
        "## <center><img src='https://iili.io/RPaXI9.webp'/></center>"
      ]
    }
  ]
}